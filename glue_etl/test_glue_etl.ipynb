{
 "cells": [
  {
   "cell_type": "code",
   "execution_count": 1,
   "metadata": {},
   "outputs": [],
   "source": [
    "import pandas as pd\n",
    "from pyspark.sql import SparkSession\n",
    "from pyspark.sql import functions as F\n",
    "from pyspark.sql.types import StructType, StructField, StringType, TimestampType, IntegerType, ArrayType, BooleanType\n",
    "import json\n",
    "\n",
    "spark = SparkSession.builder.appName(\"Glue stuff\").getOrCreate()"
   ]
  },
  {
   "cell_type": "code",
   "execution_count": 9,
   "metadata": {},
   "outputs": [],
   "source": [
    "users_db_data = \"s3://of-lakeformation-users/users_users_api_public_users_settings/version_14/part-00000-d530da31-0c19-4260-87f6-81b97a5778ee-c000.snappy.parquet\""
   ]
  },
  {
   "cell_type": "code",
   "execution_count": null,
   "metadata": {},
   "outputs": [],
   "source": [
    "!aws s3 cp s3://of-lakeformation-users/users_users_api_public_users_settings/version_14/part-00000-d530da31-0c19-4260-87f6-81b97a5778ee-c000.snappy.parquet users_db_data.parquet"
   ]
  },
  {
   "cell_type": "code",
   "execution_count": 2,
   "metadata": {},
   "outputs": [],
   "source": [
    "full_user_settings_schema = StructType([\n",
    "    StructField(\"value\", StructType([\n",
    "        StructField(\"settings\", StructType([\n",
    "            StructField(\"meta.language\", StringType(), True),\n",
    "            StructField(\"favourite.club\", IntegerType(), True),\n",
    "            StructField(\"following.clubs\", ArrayType(IntegerType()), True),\n",
    "            StructField(\"push.digest_news\", BooleanType(), True),\n",
    "            StructField(\"following.leagues\", ArrayType(IntegerType()), True),\n",
    "            StructField(\"meta.geoip_country\", StringType(), True),\n",
    "            StructField(\"ordered_menu_items\", ArrayType(StructType([\n",
    "                StructField(\"id\", IntegerType()),\n",
    "                StructField(\"type\", StringType()),\n",
    "            ])), True),\n",
    "            StructField(\"push.breaking_news\", BooleanType(), True),\n",
    "            StructField(\"push.enabled_teams\", ArrayType(StructType([\n",
    "                StructField(\"id\", IntegerType()),\n",
    "                StructField(\"eventTypes\", ArrayType(StringType())),\n",
    "            ])), True),\n",
    "            StructField(\"favourite.national_team\", IntegerType(), True),\n",
    "            StructField(\"following.national_teams\", ArrayType(IntegerType()), True),\n",
    "            StructField(\"meta.psychological_country\", StringType(), True),\n",
    "        ]), True),\n",
    "        StructField(\"updatedAt\", TimestampType(), True)\n",
    "    ]), True),\n",
    "    StructField(\"key\", StringType(), True)\n",
    "])"
   ]
  },
  {
   "cell_type": "code",
   "execution_count": 52,
   "metadata": {},
   "outputs": [],
   "source": [
    "df = spark.read.load(\"users_db_data.parquet\")"
   ]
  },
  {
   "cell_type": "code",
   "execution_count": 53,
   "metadata": {},
   "outputs": [
    {
     "name": "stdout",
     "output_type": "stream",
     "text": [
      "+--------------------+--------------------+\n",
      "|               value|                 key|\n",
      "+--------------------+--------------------+\n",
      "|{\"settings\": {\"me...|a3d7e839643792a1c...|\n",
      "|{\"settings\": {\"me...|c1b3c64ee94d31643...|\n",
      "|{\"settings\": {\"fa...|0983e155a52724599...|\n",
      "|{\"settings\": {\"fo...|47335bad0b449e3a4...|\n",
      "|{\"settings\": {\"me...|7d17b54f4001a4920...|\n",
      "|{\"settings\": {\"me...|f41e32944f9087d25...|\n",
      "|{\"settings\": {\"me...|78ec38686a40c9313...|\n",
      "|{\"settings\": {\"me...|b28efe7f4556c57c2...|\n",
      "|{\"settings\": {\"me...|2b00dac525cc6093b...|\n",
      "|{\"settings\": {\"me...|8150a9651851856e7...|\n",
      "|{\"settings\": {\"me...|4f97b6ad8609ed999...|\n",
      "|{\"settings\": {\"me...|dd0b92a8353353aaf...|\n",
      "|{\"settings\": {\"fa...|79630d4f1c9e61cdd...|\n",
      "|{\"settings\": {\"me...|4202d583100c2d337...|\n",
      "|{\"settings\": {\"me...|2dcbe86777488b425...|\n",
      "|{\"settings\": {\"me...|0be37627ac47e8eca...|\n",
      "|{\"settings\": {\"me...|49a4e33b3ffb5da0e...|\n",
      "|{\"settings\": {\"me...|9757c9f45d8372e50...|\n",
      "|{\"settings\": {\"me...|2f4bcf67c8d28a59f...|\n",
      "|{\"settings\": {\"fa...|fc237ddd81baac3c9...|\n",
      "+--------------------+--------------------+\n",
      "only showing top 20 rows\n",
      "\n"
     ]
    }
   ],
   "source": [
    "df.show()"
   ]
  },
  {
   "cell_type": "code",
   "execution_count": 7,
   "metadata": {},
   "outputs": [
    {
     "name": "stdout",
     "output_type": "stream",
     "text": [
      "root\n",
      " |-- value: string (nullable = true)\n",
      " |-- key: string (nullable = true)\n",
      "\n"
     ]
    }
   ],
   "source": [
    "df.printSchema()"
   ]
  },
  {
   "cell_type": "code",
   "execution_count": 8,
   "metadata": {},
   "outputs": [
    {
     "name": "stdout",
     "output_type": "stream",
     "text": [
      "+--------------------+--------------------+\n",
      "|               value|                 key|\n",
      "+--------------------+--------------------+\n",
      "|{\"settings\": {\"me...|a3d7e839643792a1c...|\n",
      "|{\"settings\": {\"me...|c1b3c64ee94d31643...|\n",
      "|{\"settings\": {\"fa...|0983e155a52724599...|\n",
      "|{\"settings\": {\"fo...|47335bad0b449e3a4...|\n",
      "|{\"settings\": {\"me...|7d17b54f4001a4920...|\n",
      "|{\"settings\": {\"me...|f41e32944f9087d25...|\n",
      "|{\"settings\": {\"me...|78ec38686a40c9313...|\n",
      "|{\"settings\": {\"me...|b28efe7f4556c57c2...|\n",
      "|{\"settings\": {\"me...|2b00dac525cc6093b...|\n",
      "|{\"settings\": {\"me...|8150a9651851856e7...|\n",
      "|{\"settings\": {\"me...|4f97b6ad8609ed999...|\n",
      "|{\"settings\": {\"me...|dd0b92a8353353aaf...|\n",
      "|{\"settings\": {\"fa...|79630d4f1c9e61cdd...|\n",
      "|{\"settings\": {\"me...|4202d583100c2d337...|\n",
      "|{\"settings\": {\"me...|2dcbe86777488b425...|\n",
      "|{\"settings\": {\"me...|0be37627ac47e8eca...|\n",
      "|{\"settings\": {\"me...|49a4e33b3ffb5da0e...|\n",
      "|{\"settings\": {\"me...|9757c9f45d8372e50...|\n",
      "|{\"settings\": {\"me...|2f4bcf67c8d28a59f...|\n",
      "|{\"settings\": {\"fa...|fc237ddd81baac3c9...|\n",
      "+--------------------+--------------------+\n",
      "only showing top 20 rows\n",
      "\n"
     ]
    }
   ],
   "source": [
    "df.show()"
   ]
  },
  {
   "cell_type": "code",
   "execution_count": 36,
   "metadata": {},
   "outputs": [],
   "source": [
    "user_settings_schema = StructType([\n",
    "    StructField(\"settings\", StructType([\n",
    "        StructField(\"meta.language\", StringType(), True),\n",
    "        StructField(\"favourite.club\", IntegerType(), True),\n",
    "        StructField(\"following.clubs\", ArrayType(IntegerType()), True),\n",
    "        StructField(\"push.digest_news\", BooleanType(), True),\n",
    "        StructField(\"following.leagues\", ArrayType(IntegerType()), True),\n",
    "        StructField(\"meta.geoip_country\", StringType(), True),\n",
    "        StructField(\"ordered_menu_items\", ArrayType(StructType([\n",
    "            StructField(\"id\", IntegerType()),\n",
    "            StructField(\"type\", StringType()),\n",
    "        ])), True),\n",
    "        StructField(\"push.breaking_news\", BooleanType(), True),\n",
    "        StructField(\"push.enabled_teams\", ArrayType(StructType([\n",
    "            StructField(\"id\", IntegerType()),\n",
    "            StructField(\"eventTypes\", ArrayType(StringType())),\n",
    "        ])), True),\n",
    "        StructField(\"favourite.national_team\", IntegerType(), True),\n",
    "        StructField(\"following.national_teams\", ArrayType(IntegerType()), True),\n",
    "        StructField(\"meta.psychological_country\", StringType(), True),\n",
    "    ]), True),\n",
    "    StructField(\"updatedAt\", TimestampType(), True)\n",
    "])\n",
    "user_settings_schema_renamed = StructType([\n",
    "    StructField(\"settings\", StructType([\n",
    "        StructField(\"meta_language\", StringType(), True),\n",
    "        StructField(\"favourite_club\", IntegerType(), True),\n",
    "        StructField(\"following_clubs\", ArrayType(IntegerType()), True),\n",
    "        StructField(\"push_digest_news\", BooleanType(), True),\n",
    "        StructField(\"following_leagues\", ArrayType(IntegerType()), True),\n",
    "        StructField(\"meta_geoip_country\", StringType(), True),\n",
    "        StructField(\"ordered_menu_items\", ArrayType(StructType([\n",
    "            StructField(\"id\", IntegerType()),\n",
    "            StructField(\"type\", StringType()),\n",
    "        ])), True),\n",
    "        StructField(\"push_breaking_news\", BooleanType(), True),\n",
    "        StructField(\"push_enabled_teams\", ArrayType(StructType([\n",
    "            StructField(\"id\", IntegerType()),\n",
    "            StructField(\"eventTypes\", ArrayType(StringType())),\n",
    "        ])), True),\n",
    "        StructField(\"favourite_national_team\", IntegerType(), True),\n",
    "        StructField(\"following_national_teams\", ArrayType(IntegerType()), True),\n",
    "        StructField(\"meta_psychological_country\", StringType(), True),\n",
    "    ]), True),\n",
    "    StructField(\"updatedAt\", TimestampType(), True)\n",
    "])"
   ]
  },
  {
   "cell_type": "code",
   "execution_count": 42,
   "metadata": {},
   "outputs": [
    {
     "name": "stdout",
     "output_type": "stream",
     "text": [
      "root\n",
      " |-- user_id: string (nullable = true)\n",
      " |-- settings: struct (nullable = true)\n",
      " |    |-- settings: struct (nullable = true)\n",
      " |    |    |-- meta_language: string (nullable = true)\n",
      " |    |    |-- favourite_club: integer (nullable = true)\n",
      " |    |    |-- following_clubs: array (nullable = true)\n",
      " |    |    |    |-- element: integer (containsNull = true)\n",
      " |    |    |-- push_digest_news: boolean (nullable = true)\n",
      " |    |    |-- following_leagues: array (nullable = true)\n",
      " |    |    |    |-- element: integer (containsNull = true)\n",
      " |    |    |-- meta_geoip_country: string (nullable = true)\n",
      " |    |    |-- ordered_menu_items: array (nullable = true)\n",
      " |    |    |    |-- element: struct (containsNull = true)\n",
      " |    |    |    |    |-- id: integer (nullable = true)\n",
      " |    |    |    |    |-- type: string (nullable = true)\n",
      " |    |    |-- push_breaking_news: boolean (nullable = true)\n",
      " |    |    |-- push_enabled_teams: array (nullable = true)\n",
      " |    |    |    |-- element: struct (containsNull = true)\n",
      " |    |    |    |    |-- id: integer (nullable = true)\n",
      " |    |    |    |    |-- eventTypes: array (nullable = true)\n",
      " |    |    |    |    |    |-- element: string (containsNull = true)\n",
      " |    |    |-- favourite_national_team: integer (nullable = true)\n",
      " |    |    |-- following_national_teams: array (nullable = true)\n",
      " |    |    |    |-- element: integer (containsNull = true)\n",
      " |    |    |-- meta_psychological_country: string (nullable = true)\n",
      " |    |-- updatedAt: timestamp (nullable = true)\n",
      "\n"
     ]
    }
   ],
   "source": [
    "parsed_df = df.select(\n",
    "    F.col(\"key\").alias('user_id'),\n",
    "    F.from_json(df.value, user_settings_schema).cast(user_settings_schema_renamed).alias(\"settings\")\n",
    ")\n",
    "parsed_df.printSchema()"
   ]
  },
  {
   "cell_type": "code",
   "execution_count": 50,
   "metadata": {},
   "outputs": [],
   "source": [
    "followed_teams = parsed_df.select(\n",
    "    \"user_id\",\n",
    "    F.explode(\"settings.settings.following_clubs\").alias('team_id')\n",
    ")"
   ]
  },
  {
   "cell_type": "code",
   "execution_count": 51,
   "metadata": {},
   "outputs": [
    {
     "name": "stdout",
     "output_type": "stream",
     "text": [
      "+--------------------+-------+\n",
      "|             user_id|team_id|\n",
      "+--------------------+-------+\n",
      "|f41e32944f9087d25...|   1696|\n",
      "|78ec38686a40c9313...|    149|\n",
      "|b28efe7f4556c57c2...|   1693|\n",
      "|b28efe7f4556c57c2...|      5|\n",
      "|b28efe7f4556c57c2...|     26|\n",
      "|4f97b6ad8609ed999...|      6|\n",
      "|4f97b6ad8609ed999...|    202|\n",
      "|dd0b92a8353353aaf...|     16|\n",
      "|4202d583100c2d337...|   1649|\n",
      "|49a4e33b3ffb5da0e...|     17|\n",
      "|49a4e33b3ffb5da0e...|    400|\n",
      "|2f4bcf67c8d28a59f...|    144|\n",
      "|480cc8d208a6db705...|   1787|\n",
      "|480cc8d208a6db705...|    575|\n",
      "|f5986a7783e8da108...|   2304|\n",
      "|f5986a7783e8da108...|      6|\n",
      "|f5986a7783e8da108...|    154|\n",
      "|f5986a7783e8da108...|    155|\n",
      "|f5986a7783e8da108...|     16|\n",
      "|f5986a7783e8da108...|     23|\n",
      "+--------------------+-------+\n",
      "only showing top 20 rows\n",
      "\n"
     ]
    }
   ],
   "source": [
    "followed_teams.show()"
   ]
  },
  {
   "cell_type": "code",
   "execution_count": null,
   "metadata": {},
   "outputs": [],
   "source": []
  }
 ],
 "metadata": {
  "kernelspec": {
   "display_name": "Python 3",
   "language": "python",
   "name": "python3"
  },
  "language_info": {
   "codemirror_mode": {
    "name": "ipython",
    "version": 3
   },
   "file_extension": ".py",
   "mimetype": "text/x-python",
   "name": "python",
   "nbconvert_exporter": "python",
   "pygments_lexer": "ipython3",
   "version": "3.7.5"
  }
 },
 "nbformat": 4,
 "nbformat_minor": 4
}
